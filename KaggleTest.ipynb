{
 "cells": [
  {
   "cell_type": "code",
   "execution_count": 2,
   "id": "3bf5b549-ecfd-48fa-9ddb-e079471ca6e4",
   "metadata": {},
   "outputs": [],
   "source": [
    "import numpy as np\n",
    "import nibabel\n",
    "import matplotlib.pyplot as plt\n",
    "from glob import glob\n",
    "import cv2\n",
    "import os\n",
    "import shutil\n",
    "import statistics\n",
    "from PIL import Image\n",
    "import skimage\n",
    "import logging\n",
    "logging.basicConfig(level=logging.INFO, force=True)"
   ]
  },
  {
   "cell_type": "code",
   "execution_count": 19,
   "id": "8298d148-8b02-4d97-9cdc-28e6c2141f5c",
   "metadata": {},
   "outputs": [],
   "source": [
    "ZEROS = np.zeros((512, 512))\n",
    "def liver_and_tumor_png(liver, mask, liver_root, mask_root):\n",
    "    liver_base = os.path.basename(liver).replace('.nii.gz', '')\n",
    "    mask_base  = os.path.basename(mask).replace('.nii.gz', '')\n",
    "\n",
    "    liver_folder_name = os.path.join(liver_root.replace('.nii.gz', ''), liver_base)\n",
    "    if os.path.exists(liver_folder_name):\n",
    "        shutil.rmtree(liver_folder_name)\n",
    "    os.mkdir(liver_folder_name)\n",
    "    \n",
    "    mask_folder_name = os.path.join(mask_root.replace('.nii.gz', ''), mask_base)\n",
    "    if os.path.exists(mask_folder_name):\n",
    "        shutil.rmtree(mask_folder_name)\n",
    "    os.mkdir(mask_folder_name)\n",
    "\n",
    "    liver_img = nibabel.load(liver).get_fdata()\n",
    "    mask_img2 = nibabel.load(mask).get_fdata()\n",
    "\n",
    "    liver_img = np.clip(liver_img, -45, 105)\n",
    "    mask_img = np.clip(mask_img2, 0, 1)\n",
    "    tumor_img = (mask_img2 > 1).astype(np.uint8) * 255\n",
    "    \n",
    "    for d in range(0, liver_img.shape[2]):\n",
    "        liver_png_file_name = os.path.join(liver_folder_name, f\"{d}.png\")\n",
    "        tumor_png_file_name = os.path.join(mask_folder_name, f\"{d}.png\")\n",
    "        \n",
    "        windowed_slice = np.uint8(skimage.exposure.rescale_intensity(\n",
    "            liver_img[:, :, d], in_range='image', out_range=(0, 255)\n",
    "        ))\n",
    "\n",
    "        windowed_mask = np.uint8(skimage.exposure.rescale_intensity(\n",
    "            mask_img[:, :, d], in_range='image', out_range=(0, 255)\n",
    "        ))\n",
    "    \n",
    "        tumor_mask = tumor_img[..., d]\n",
    "        final_img = windowed_slice & windowed_mask\n",
    "    \n",
    "        if np.all(final_img == ZEROS):\n",
    "            continue\n",
    "\n",
    "        skimage.io.imsave(liver_png_file_name, final_img, check_contrast=False)\n",
    "        skimage.io.imsave(tumor_png_file_name, tumor_mask, check_contrast=False)"
   ]
  },
  {
   "cell_type": "code",
   "execution_count": 20,
   "id": "fa6106d6-b2ba-4904-a7dc-87b521b18da5",
   "metadata": {},
   "outputs": [],
   "source": [
    "volume = './volume-100.nii.gz'\n",
    "mask = './segmentation-100.nii.gz'\n",
    "masks = './masks_tumor_png/'\n",
    "images = './images_tumor_png/'\n",
    "prediction = './prediction_masks/'"
   ]
  },
  {
   "cell_type": "code",
   "execution_count": 21,
   "id": "e0d99911-24dd-44b9-9bf0-18276dcdad3f",
   "metadata": {},
   "outputs": [],
   "source": [
    "liver_and_tumor_png(volume, mask, './images_tumor_png/', './masks_tumor_png/')"
   ]
  },
  {
   "cell_type": "code",
   "execution_count": null,
   "id": "fb384964-3acd-43a1-b450-4e2db725231a",
   "metadata": {},
   "outputs": [],
   "source": []
  }
 ],
 "metadata": {
  "kernelspec": {
   "display_name": "Python 3 (ipykernel)",
   "language": "python",
   "name": "python3"
  },
  "language_info": {
   "codemirror_mode": {
    "name": "ipython",
    "version": 3
   },
   "file_extension": ".py",
   "mimetype": "text/x-python",
   "name": "python",
   "nbconvert_exporter": "python",
   "pygments_lexer": "ipython3",
   "version": "3.11.5"
  }
 },
 "nbformat": 4,
 "nbformat_minor": 5
}
