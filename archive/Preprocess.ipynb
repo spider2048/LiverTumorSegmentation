{
 "cells": [
  {
   "cell_type": "code",
   "execution_count": 91,
   "id": "8abb3358-38c2-4693-8904-d9d46507302d",
   "metadata": {},
   "outputs": [],
   "source": [
    "import numpy as np\n",
    "import nibabel\n",
    "import matplotlib.pyplot as plt\n",
    "from glob import glob\n",
    "import cv2\n",
    "import os\n",
    "import shutil\n",
    "import statistics\n",
    "from PIL import Image\n",
    "import skimage\n",
    "import logging\n",
    "logging.basicConfig(level=logging.INFO, force=True)"
   ]
  },
  {
   "cell_type": "code",
   "execution_count": 296,
   "id": "be6a8110-e6dc-4995-8638-500ce3acd4ac",
   "metadata": {},
   "outputs": [
    {
     "name": "stdout",
     "output_type": "stream",
     "text": [
      "mkdir: cannot create directory ‘masks_tumor_png’: File exists\n",
      "mkdir: cannot create directory ‘images_tumor_png’: File exists\n"
     ]
    }
   ],
   "source": [
    "volume = './volume-100.nii.gz'\n",
    "mask = './segmentation-100.nii.gz'\n",
    "masks = './masks_png'\n",
    "images = './images_png'\n",
    "\n",
    "!mkdir masks_tumor_png images_tumor_png"
   ]
  },
  {
   "cell_type": "code",
   "execution_count": 45,
   "id": "4bfd4c83-1f79-4a9d-af0d-48c6d0392c07",
   "metadata": {},
   "outputs": [],
   "source": [
    "def nii_liver_to_png(nii_file, png_root):\n",
    "    base = os.path.basename(nii_file).replace('.nii.gz', '')\n",
    "    \n",
    "    folder_name = os.path.join(png_root.replace('.nii.gz', ''), base)\n",
    "    if os.path.exists(folder_name):\n",
    "        shutil.rmtree(folder_name)\n",
    "        \n",
    "    os.mkdir(folder_name)\n",
    "    \n",
    "    nii_img = nibabel.load(nii_file).get_fdata()\n",
    "    depth = nii_img.shape[2]\n",
    "    for d in range(0, depth):\n",
    "        png_file_name = os.path.join(folder_name, f\"{d}.png\")\n",
    "        \n",
    "        windowed_slice = skimage.exposure.rescale_intensity(\n",
    "            np.clip(nii_img[:, :, d], -45, 105), # -45, 105\n",
    "            in_range='image', out_range=(0, 255)\n",
    "        )\n",
    "        \n",
    "        png_file_data = skimage.transform.resize(windowed_slice, (256, 256), anti_aliasing=True)\n",
    "        skimage.io.imsave(png_file_name, np.uint8(png_file_data))"
   ]
  },
  {
   "cell_type": "code",
   "execution_count": 46,
   "id": "95341d1d-036b-4050-b45b-e70365810fc6",
   "metadata": {},
   "outputs": [],
   "source": [
    "nii_to_png(volume, './images_png3')"
   ]
  },
  {
   "cell_type": "code",
   "execution_count": null,
   "id": "65d1fd33-a2ec-473c-8fbb-7adc4eb79d09",
   "metadata": {},
   "outputs": [],
   "source": [
    "!mkdir masks_png\n"
   ]
  },
  {
   "cell_type": "code",
   "execution_count": 57,
   "id": "96404c8d-8488-45bb-9ebf-ef477568308e",
   "metadata": {},
   "outputs": [],
   "source": [
    "def nii_mask_to_png(nii_file, png_root):\n",
    "    base = os.path.basename(nii_file).replace('.nii.gz', '')\n",
    "    \n",
    "    folder_name = os.path.join(png_root.replace('.nii.gz', ''), base)\n",
    "    if os.path.exists(folder_name):\n",
    "        shutil.rmtree(folder_name)\n",
    "        \n",
    "    os.mkdir(folder_name)\n",
    "    \n",
    "    nii_img = nibabel.load(nii_file).get_fdata()\n",
    "    depth = nii_img.shape[2]\n",
    "    for d in range(400, depth):\n",
    "        png_file_name = os.path.join(folder_name, f\"{d}.png\")\n",
    "        \n",
    "        windowed_slice = skimage.exposure.rescale_intensity(\n",
    "            nii_img[:, :, d], in_range='image', out_range=(0, 255)\n",
    "        )\n",
    "\n",
    "        png_file_data = skimage.transform.resize(windowed_slice, (256, 256), anti_aliasing=True)\n",
    "        skimage.io.imsave(png_file_name, np.uint8(png_file_data), check_contrast=False)"
   ]
  },
  {
   "cell_type": "code",
   "execution_count": 58,
   "id": "686c7463-05c3-48ff-8c9d-68472711db08",
   "metadata": {},
   "outputs": [],
   "source": [
    "d = nii_mask_to_png(mask, './masks_png/')"
   ]
  },
  {
   "cell_type": "code",
   "execution_count": 60,
   "id": "c63a3894-f825-4ad1-9347-5ece9e5d8694",
   "metadata": {},
   "outputs": [
    {
     "data": {
      "text/plain": [
       "array([  0,   6,  12,  13,  19,  69,  70,  75,  76, 120, 121, 127, 133,\n",
       "       177, 178, 179, 184, 185, 235, 241, 242, 248, 254, 255], dtype=uint8)"
      ]
     },
     "execution_count": 60,
     "metadata": {},
     "output_type": "execute_result"
    }
   ],
   "source": [
    "np.unique(np.uint8(d))"
   ]
  },
  {
   "cell_type": "code",
   "execution_count": 61,
   "id": "6387ef10-1f3b-49cb-b906-f5896c189c62",
   "metadata": {},
   "outputs": [
    {
     "data": {
      "text/plain": [
       "<matplotlib.image.AxesImage at 0x7fb870719890>"
      ]
     },
     "execution_count": 61,
     "metadata": {},
     "output_type": "execute_result"
    },
    {
     "data": {
      "image/png": "[encoded data removed]",
      "text/plain": [
       "<Figure size 640x480 with 1 Axes>"
      ]
     },
     "metadata": {},
     "output_type": "display_data"
    }
   ],
   "source": [
    "plt.imshow(d)"
   ]
  },
  {
   "cell_type": "markdown",
   "id": "c22e01fd-fe4f-4eec-ad85-785fcfaa28e3",
   "metadata": {},
   "source": [
    "## For tumors\n",
    "1. Only train masked liver images\n",
    "2. Exclude null images\n",
    "3. Use tumor masks"
   ]
  },
  {
   "cell_type": "code",
   "execution_count": 45,
   "id": "2b4ebfd1-4fe5-4e2b-b521-8ff5143b1b16",
   "metadata": {},
   "outputs": [],
   "source": [
    "ZEROS = np.zeros((512, 512), dtype=np.uint8)\n",
    "\n",
    "def nii_liver_to_png(liver, mask, png_root):\n",
    "    base = os.path.basename(liver).replace('.nii.gz', '')\n",
    "    \n",
    "    folder_name = os.path.join(png_root.replace('.nii.gz', ''), base)\n",
    "    if os.path.exists(folder_name):\n",
    "        shutil.rmtree(folder_name)\n",
    "        \n",
    "    os.mkdir(folder_name)\n",
    "    \n",
    "    liver_img = nibabel.load(liver).get_fdata()\n",
    "    mask_img = nibabel.load(mask).get_fdata()\n",
    "\n",
    "    liver_img = np.clip(liver_img, -45, 105)\n",
    "    mask_img = np.clip(mask_img, 0, 1)\n",
    "    \n",
    "    depth = liver_img.shape[2]\n",
    "    for d in range(0, depth):\n",
    "        png_file_name = os.path.join(folder_name, f\"{d}.png\")\n",
    "        \n",
    "        windowed_slice = np.uint8(skimage.exposure.rescale_intensity(\n",
    "            liver_img[:, :, d], in_range='image', out_range=(0, 255)\n",
    "        ))\n",
    "\n",
    "        windowed_mask = np.uint8(skimage.exposure.rescale_intensity(\n",
    "            mask_img[:, :, d], in_range='image', out_range=(0, 255)\n",
    "        ))\n",
    "\n",
    "        final_img = np.uint8(windowed_slice & windowed_mask)\n",
    "        if np.all(final_img == ZEROS):\n",
    "            continue\n",
    "\n",
    "        skimage.io.imsave(png_file_name, final_img, check_contrast=False)"
   ]
  },
  {
   "cell_type": "code",
   "execution_count": 46,
   "id": "51149495-bf44-4380-a0d0-b9f8553ea601",
   "metadata": {},
   "outputs": [
    {
     "name": "stdout",
     "output_type": "stream",
     "text": [
      "mkdir: cannot create directory ‘./images2_tumor_png’: File exists\n"
     ]
    }
   ],
   "source": [
    "!mkdir ./images2_tumor_png\n",
    "nii_liver_to_png(volume, mask, './images2_tumor_png')"
   ]
  },
  {
   "cell_type": "code",
   "execution_count": 298,
   "id": "07df23d1-ba11-4ab5-b4db-48e22058eeca",
   "metadata": {},
   "outputs": [],
   "source": [
    "ZEROS = np.zeros((512, 512))\n",
    "\n",
    "def nii_tumor_mask_to_png(liver, mask, png_root):\n",
    "    base = os.path.basename(mask).replace('.nii.gz', '')\n",
    "    \n",
    "    folder_name = os.path.join(png_root.replace('.nii.gz', ''), base)\n",
    "    if os.path.exists(folder_name):\n",
    "        shutil.rmtree(folder_name)\n",
    "        \n",
    "    os.mkdir(folder_name)\n",
    "    \n",
    "    liver_img = nibabel.load(liver).get_fdata()\n",
    "    mask_img = nibabel.load(mask).get_fdata()\n",
    "\n",
    "    liver_img = np.clip(liver_img, -45, 105)\n",
    "    tumor_img = np.clip(mask_img, 1, 2)\n",
    "    mask_img = np.clip(mask_img, 0, 1)\n",
    "    \n",
    "    depth = liver_img.shape[2]\n",
    "    for d in range(0, depth):\n",
    "        png_file_name = os.path.join(folder_name, f\"{d}.png\")\n",
    "        \n",
    "        windowed_slice = np.uint8(skimage.exposure.rescale_intensity(\n",
    "            liver_img[:, :, d], in_range='image', out_range=(0, 255)\n",
    "        ))\n",
    "\n",
    "        windowed_mask = np.uint8(skimage.exposure.rescale_intensity(\n",
    "            mask_img[:, :, d], in_range='image', out_range=(0, 255)\n",
    "        ))\n",
    "\n",
    "        tumor_mask = np.uint8(skimage.exposure.rescale_intensity(\n",
    "            tumor_img[:, :, d], in_range='image', out_range=(0, 255)\n",
    "        ))\n",
    "\n",
    "        final_img = np.uint8(windowed_slice & windowed_mask)\n",
    "        if np.all(final_img == ZEROS):\n",
    "            continue\n",
    "\n",
    "        skimage.io.imsave(png_file_name, tumor_mask, check_contrast=False)"
   ]
  },
  {
   "cell_type": "code",
   "execution_count": 299,
   "id": "d58c774f-b285-46fe-a579-b96eeca1ced1",
   "metadata": {},
   "outputs": [],
   "source": [
    "nii_tumor_mask_to_png(volume, mask, './masks_tumor_png/')"
   ]
  },
  {
   "cell_type": "code",
   "execution_count": null,
   "id": "47690f8b-6b90-4fea-a22d-506ef5b5c176",
   "metadata": {},
   "outputs": [],
   "source": [
    "def liver_and_tumor_png(liver, mask, liver_root, mask_root):\n",
    "    liver_base = os.path.basename(liver).replace('.nii.gz', '')\n",
    "    mask_base  = os.path.basename(mask).replace('.nii.gz', '')\n",
    "\n",
    "    liver_folder_name = os.path.join(liver_root.replace('.nii.gz', ''), liver_base)\n",
    "    if os.path.exists(liver_folder_name):\n",
    "        shutil.rmtree(liver_folder_name)\n",
    "    os.mkdir(liver_folder_name)\n",
    "    \n",
    "    mask_folder_name = os.path.join(mask_root.replace('.nii.gz', ''), mask_base)\n",
    "    if os.path.exists(mask_folder_name):\n",
    "        shutil.rmtree(mask_folder_name)\n",
    "    os.mkdir(mask_folder_name)\n",
    "\n",
    "    liver_img = nibabel.load(liver).get_fdata()\n",
    "    mask_img2 = nibabel.load(mask).get_fdata()\n",
    "\n",
    "    liver_img = np.clip(liver_img, -45, 105)\n",
    "    mask_img = np.clip(mask_img2, 0, 1)\n",
    "    tumor_img = np.clip(mask_img2, 1, 2) - 1\n",
    "    assert tumor_img.min() == 0 and tumor_img.max() == 1\n",
    "    \n",
    "    for d in range(0, liver_img.shape[2]):\n",
    "        liver_png_file_name = os.path.join(liver_folder_name, f\"{d}.png\")\n",
    "        tumor_png_file_name = os.path.join(mask_folder_name, f\"{d}.png\")\n",
    "        \n",
    "        windowed_slice = np.uint8(skimage.exposure.rescale_intensity(\n",
    "            liver_img[:, :, d], in_range='image', out_range=(0, 255)\n",
    "        ))\n",
    "\n",
    "        windowed_mask = np.uint8(skimage.exposure.rescale_intensity(\n",
    "            mask_img[:, :, d], in_range='image', out_range=(0, 255)\n",
    "        ))\n",
    "\n",
    "        tumor_mask = np.uint8(skimage.exposure.rescale_intensity(\n",
    "            tumor_img[:, :, d], in_range='image', out_range=(0, 255)\n",
    "        ))\n",
    "\n",
    "        final_img = np.uint8(windowed_slice & windowed_mask)\n",
    "        if np.all(final_img == ZEROS):\n",
    "            continue\n",
    "\n",
    "        skimage.io.imsave(liver_png_file_name, final_img, check_contrast=False)\n",
    "        skimage.io.imsave(tumor_png_file_name, tumor_mask, check_contrast=False)"
   ]
  },
  {
   "cell_type": "code",
   "execution_count": null,
   "id": "1f10eb9a-da3c-44b8-b5c0-d1375997300c",
   "metadata": {},
   "outputs": [],
   "source": [
    "liver_and_tumor_png(volume, mask, './images2_tumor_png/', './masks_tumor_png/')"
   ]
  },
  {
   "cell_type": "code",
   "execution_count": 350,
   "id": "b3d172a7-f830-4d0d-9698-043b67b22d87",
   "metadata": {},
   "outputs": [],
   "source": [
    "def segment_tumor(Ipath, dst_path):\n",
    "    I = skimage.io.imread(Ipath)\n",
    "    print(np.unique(I))\n",
    "    \n",
    "    a, b = skimage.filters.threshold_multiotsu(I)\n",
    "    T = ((a <= I) & (I <= b))\n",
    "    T0 = skimage.morphology.area_closing(T, area_threshold=128)\n",
    "    T2 = skimage.morphology.remove_small_objects(T0, connectivity=8, min_size=128)\n",
    "    T2 = np.uint8(skimage.exposure.rescale_intensity(T2, in_range='image', out_range=(0, 255)))\n",
    "    return skimage.io.imsave(dst_path, T2, check_contrast=False)"
   ]
  },
  {
   "cell_type": "code",
   "execution_count": null,
   "id": "d50f33e3-6689-401d-9631-e171a2f29ea5",
   "metadata": {},
   "outputs": [],
   "source": [
    "!mkdir prediction_masks prediction_masks/volume-100\n",
    "for path in glob('./images2_tumor_png/volume-100/*.png'):\n",
    "    dst_path = path.replace('images2_tumor_png', 'prediction_masks/')\n",
    "    segment_tumor(path, dst_path)"
   ]
  },
  {
   "cell_type": "code",
   "execution_count": 343,
   "id": "1c9890ef-215b-44a9-8165-539d542d405e",
   "metadata": {},
   "outputs": [],
   "source": [
    "def calculate_dice_coefficient(ground_truth_path, predicted_path):\n",
    "    true_mask = skimage.io.imread(ground_truth_path) / 255\n",
    "    pred_mask = skimage.io.imread(predicted_path) / 255\n",
    "\n",
    "    intersection = np.sum(true_mask * pred_mask)\n",
    "    union = np.sum(true_mask) + np.sum(pred_mask)\n",
    "    dice_coefficient = (2.0 * intersection + 1e-5) / (union + 1e-5)\n",
    "    return dice_coefficient"
   ]
  },
  {
   "cell_type": "code",
   "execution_count": 344,
   "id": "499947a2-bf04-407b-ba3e-a37524cc4e47",
   "metadata": {},
   "outputs": [
    {
     "data": {
      "text/plain": [
       "0.808241388791659"
      ]
     },
     "execution_count": 344,
     "metadata": {},
     "output_type": "execute_result"
    },
    {
     "data": {
      "image/png": "[encoded data removed]",
      "text/plain": [
       "<Figure size 640x480 with 1 Axes>"
      ]
     },
     "metadata": {},
     "output_type": "display_data"
    }
   ],
   "source": [
    "scores = []\n",
    "\n",
    "prediction = sorted(glob('./prediction_masks/volume-100/*.png'))\n",
    "ground = sorted(glob('./masks_tumor_png/segmentation-100/*.png'))\n",
    "\n",
    "for p, g in zip(prediction[50:], ground[50:]):\n",
    "    scores.append(calculate_dice_coefficient(g, p))\n",
    "\n",
    "plt.plot(scores)\n",
    "statistics.mean(scores)"
   ]
  }
 ],
 "metadata": {
  "kernelspec": {
   "display_name": "Python 3 (ipykernel)",
   "language": "python",
   "name": "python3"
  },
  "language_info": {
   "codemirror_mode": {
    "name": "ipython",
    "version": 3
   },
   "file_extension": ".py",
   "mimetype": "text/x-python",
   "name": "python",
   "nbconvert_exporter": "python",
   "pygments_lexer": "ipython3",
   "version": "3.11.6"
  }
 },
 "nbformat": 4,
 "nbformat_minor": 5
}
